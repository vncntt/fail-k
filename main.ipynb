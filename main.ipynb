{
 "cells": [
  {
   "cell_type": "code",
   "execution_count": 11,
   "metadata": {},
   "outputs": [
    {
     "data": {
      "text/plain": [
       "True"
      ]
     },
     "execution_count": 11,
     "metadata": {},
     "output_type": "execute_result"
    }
   ],
   "source": [
    "import huggingface\n",
    "from datasets import load_dataset\n",
    "import requests\n",
    "import json\n",
    "import os\n",
    "from dotenv import load_dotenv\n",
    "\n",
    "load_dotenv()"
   ]
  },
  {
   "cell_type": "code",
   "execution_count": 5,
   "metadata": {},
   "outputs": [
    {
     "data": {
      "application/vnd.jupyter.widget-view+json": {
       "model_id": "6644bf1145014f959682362ffbeac8c2",
       "version_major": 2,
       "version_minor": 0
      },
      "text/plain": [
       "README.md:   0%|          | 0.00/7.94k [00:00<?, ?B/s]"
      ]
     },
     "metadata": {},
     "output_type": "display_data"
    },
    {
     "data": {
      "application/vnd.jupyter.widget-view+json": {
       "model_id": "999ecd0dadfc4c19bd9c75e41908be0f",
       "version_major": 2,
       "version_minor": 0
      },
      "text/plain": [
       "train-00000-of-00001.parquet:   0%|          | 0.00/2.31M [00:00<?, ?B/s]"
      ]
     },
     "metadata": {},
     "output_type": "display_data"
    },
    {
     "data": {
      "application/vnd.jupyter.widget-view+json": {
       "model_id": "5bd62330e41f45f38cd61319c7cd6dab",
       "version_major": 2,
       "version_minor": 0
      },
      "text/plain": [
       "test-00000-of-00001.parquet:   0%|          | 0.00/419k [00:00<?, ?B/s]"
      ]
     },
     "metadata": {},
     "output_type": "display_data"
    },
    {
     "data": {
      "application/vnd.jupyter.widget-view+json": {
       "model_id": "2e95ecbf77b9431ba831e7c727e2d341",
       "version_major": 2,
       "version_minor": 0
      },
      "text/plain": [
       "Generating train split:   0%|          | 0/7473 [00:00<?, ? examples/s]"
      ]
     },
     "metadata": {},
     "output_type": "display_data"
    },
    {
     "data": {
      "application/vnd.jupyter.widget-view+json": {
       "model_id": "98ecf0de59ad4608b05f9b327c92f498",
       "version_major": 2,
       "version_minor": 0
      },
      "text/plain": [
       "Generating test split:   0%|          | 0/1319 [00:00<?, ? examples/s]"
      ]
     },
     "metadata": {},
     "output_type": "display_data"
    }
   ],
   "source": [
    "dataset = load_dataset(\"gsm8k\", \"main\")"
   ]
  },
  {
   "cell_type": "code",
   "execution_count": 12,
   "metadata": {},
   "outputs": [
    {
     "name": "stdout",
     "output_type": "stream",
     "text": [
      "{'question': 'Natalia sold clips to 48 of her friends in April, and then she sold half as many clips in May. How many clips did Natalia sell altogether in April and May?', 'answer': 'Natalia sold 48/2 = <<48/2=24>>24 clips in May.\\nNatalia sold 48+24 = <<48+24=72>>72 clips altogether in April and May.\\n#### 72'}\n",
      "Natalia sold clips to 48 of her friends in April, and then she sold half as many clips in May. How many clips did Natalia sell altogether in April and May?\n"
     ]
    }
   ],
   "source": [
    "print(dataset[\"train\"][0])\n",
    "print(dataset[\"train\"][0]['question'])\n"
   ]
  },
  {
   "cell_type": "code",
   "execution_count": 25,
   "metadata": {},
   "outputs": [
    {
     "name": "stdout",
     "output_type": "stream",
     "text": [
      "Natalia sold 48/2 = <<48/2=24>>24 clips in May.\n",
      "Natalia sold 48+24 = <<48+24=72>>72 clips altogether in April and May.\n",
      "#### 72\n",
      "Weng earns 12/60 = $<<12/60=0.2>>0.2 per minute.\n",
      "Working 50 minutes, she earned 0.2 x 50 = $<<0.2*50=10>>10.\n",
      "#### 10\n",
      "In the beginning, Betty has only 100 / 2 = $<<100/2=50>>50.\n",
      "Betty's grandparents gave her 15 * 2 = $<<15*2=30>>30.\n",
      "This means, Betty needs 100 - 50 - 30 - 15 = $<<100-50-30-15=5>>5 more.\n",
      "#### 5\n"
     ]
    }
   ],
   "source": [
    "print(dataset[\"train\"][0]['answer'])\n",
    "print(dataset[\"train\"][1]['answer'])\n",
    "print(dataset[\"train\"][2]['answer'])"
   ]
  },
  {
   "cell_type": "code",
   "execution_count": 30,
   "metadata": {},
   "outputs": [],
   "source": [
    "answers = []\n",
    "for i in range(len(dataset[\"train\"])):\n",
    "    sample = dataset[\"train\"][i]\n",
    "    for line in sample['answer'].split(\"\\n\"):\n",
    "        if line.strip().startswith(\"####\"):\n",
    "            answers.append(int(line.replace(\"####\", \"\").strip().replace(\",\",\"\")))"
   ]
  },
  {
   "cell_type": "code",
   "execution_count": 112,
   "metadata": {},
   "outputs": [],
   "source": [
    "def get_model_response(prompt, answer, filename):\n",
    "    try:\n",
    "        response = requests.post(\n",
    "            url=\"https://openrouter.ai/api/v1/chat/completions\",\n",
    "            headers={\n",
    "                \"Authorization\": f\"Bearer {os.getenv('OPENROUTER_API_KEY')}\",\n",
    "            },\n",
    "            data=json.dumps({\n",
    "                \"model\": \"anthropic/claude-3.5-sonnet\", \n",
    "                \"messages\": [\n",
    "                    {\n",
    "                        \"role\": \"user\",\n",
    "                        \"content\": (\n",
    "                            \"\"\"\n",
    "                            Solve the math problem provided below. \n",
    "                            At the very end of your message, provide the answer to the problem in <ANSWER> </ANSWER> tags:\n",
    "                            In the answer tags, only provide the answer to the problem, no other text.\n",
    "                            The answer should be an integer without any other symbols.\n",
    "                            \"\"\"\n",
    "                            + prompt\n",
    "                        )\n",
    "                    }\n",
    "                ]\n",
    "                \n",
    "            })\n",
    "        )\n",
    "        if response.status_code == 200:\n",
    "            data = response.json()\n",
    "            model_response= data['choices'][0]['message']['content']\n",
    "            model_answer = model_response.split(\"<ANSWER>\")[1].split(\"</ANSWER>\")[0]\n",
    "            \n",
    "            print(\"CORRECT ANSWER: \",answer)\n",
    "            print(\"MODEL ANSWER: \",model_answer)\n",
    "            with open(filename, 'a') as f:\n",
    "                f.write(\"QUESTION: \" + prompt)\n",
    "                f.write(\"MODEL RESPONSE: \" + model_response + \"\\n\\n\")\n",
    "                f.write(\"MODEL ANSWER: \" + model_answer + \"\\n\\n\")\n",
    "                f.write(\"CORRECT ANSWER: \" + str(answer) + \"\\n\\n\")\n",
    "\n",
    "            # print(f\"Response appended to {filename}\")\n",
    "\n",
    "            return model_answer\n",
    "        else:\n",
    "            print(f\"Error: {response.status_code}\")\n",
    "    except Exception as e:\n",
    "        print(f\"Error: {e}\")"
   ]
  },
  {
   "cell_type": "code",
   "execution_count": null,
   "metadata": {},
   "outputs": [],
   "source": [
    "correct = 0\n",
    "starting = 100\n",
    "ending = 200\n",
    "wrong_indices = []\n",
    "for i in range(starting,ending):\n",
    "    answer = get_model_response(dataset[\"train\"][i]['question'])\n",
    "    answer = int(answer)\n",
    "    print(\"CORRECT ANSWER: \",answers[i])\n",
    "    if (answer == answers[i]):\n",
    "        correct+=1\n",
    "    else:\n",
    "        wrong_indices.append(i)\n",
    "\n",
    "\n",
    "print(\"accuracy: \", correct/(ending-starting)) \n",
    "print(wrong_indices)"
   ]
  },
  {
   "cell_type": "code",
   "execution_count": 64,
   "metadata": {},
   "outputs": [
    {
     "name": "stdout",
     "output_type": "stream",
     "text": [
      "INDICES OF PROBLEMS THE MODEL GETS WRONG:\n",
      "[59, 63, 73, 108, 118, 167]\n"
     ]
    }
   ],
   "source": [
    "print(\"INDICES OF PROBLEMS THE MODEL GETS WRONG:\")\n",
    "wrong_indices = [59,63,73, 108, 118, 167]\n",
    "print(wrong_indices)"
   ]
  },
  {
   "cell_type": "code",
   "execution_count": null,
   "metadata": {},
   "outputs": [],
   "source": [
    "for i in wrong_indices:\n",
    "    answer = get_model_response(dataset[\"train\"][i]['question'])\n",
    "    answer = int(answer)\n",
    "\n",
    "    print(dataset[\"train\"][i]['question'])\n",
    "    print(\"CORRECT ANSWER: \",answers[i])\n",
    "\n",
    "    print(dataset[\"train\"][i]['answer'])"
   ]
  },
  {
   "cell_type": "markdown",
   "metadata": {},
   "source": [
    "## OUTPUTS"
   ]
  },
  {
   "cell_type": "markdown",
   "metadata": {},
   "source": [
    "MODEL_RESPONSE:  Let me help solve this problem step by step.\n",
    "\n",
    "1. First, let's identify how many people need trail mix:\n",
    "   * Baseball team members: 13\n",
    "   * Coaches: 3\n",
    "   * Helpers: 2\n",
    "   * Total people: 13 + 3 + 2 = 18 people\n",
    "\n",
    "2. Each pack contains 6 pouches of trail mix\n",
    "\n",
    "3. To find how many packs Roger needs:\n",
    "   * 18 people ÷ 6 pouches per pack = 3 packs\n",
    "\n",
    "   However, 3 packs only provides 18 pouches, which is exactly enough. It's usually good to have a few extra, so Roger should buy 4 packs to be safe.\n",
    "\n",
    "<ANSWER>4</ANSWER>\n",
    "ANSWER:  4\n",
    "Response saved to response.txt\n",
    "CORRECT ANSWER:  3\n",
    "MODEL_RESPONSE:  Let me help solve this step by step:"
   ]
  },
  {
   "cell_type": "markdown",
   "metadata": {},
   "source": [
    "MODEL_RESPONSE:  Let me help solve this step by step.\n",
    "\n",
    "1. First, let's identify Shawna's total goal:\n",
    "   * Total goal = 30 situps\n",
    "\n",
    "2. Now, let's count how many situps she's done so far:\n",
    "   * Monday: 12 situps\n",
    "   * Tuesday: 19 situps\n",
    "   * Total done = 12 + 19 = 31 situps\n",
    "\n",
    "3. To find out how many more she needs to meet her goal:\n",
    "   * Need = Total goal - Total done\n",
    "   * Need = 30 - 31\n",
    "   * Need = -1\n",
    "\n",
    "Since Shawna has already done 31 situps over Monday and Tuesday, which is more than her goal of 30, she doesn't need to do any additional situps on Wednesday to meet her minimum goal.\n",
    "\n",
    "<ANSWER>0</ANSWER>\n",
    "ANSWER:  0\n",
    "Response saved to response.txt\n",
    "CORRECT ANSWER:  59\n",
    "MODEL_RESPONSE:  Let me help solve this step by step."
   ]
  },
  {
   "cell_type": "markdown",
   "metadata": {},
   "source": [
    "MODEL_RESPONSE:  Let me help solve this step by step.\n",
    "\n",
    "1. First, let's identify Shawna's total goal:\n",
    "   * Total goal = 30 situps\n",
    "\n",
    "2. Now, let's count how many situps she's done so far:\n",
    "   * Monday: 12 situps\n",
    "   * Tuesday: 19 situps\n",
    "   * Total done = 12 + 19 = 31 situps\n",
    "\n",
    "3. To find out how many more she needs to meet her goal:\n",
    "   * Need = Total goal - Total done\n",
    "   * Need = 30 - 31\n",
    "   * Need = -1\n",
    "\n",
    "Since Shawna has already done 31 situps over Monday and Tuesday, which is more than her goal of 30, she doesn't need to do any additional situps on Wednesday to meet her minimum goal.\n",
    "\n",
    "<ANSWER>0</ANSWER>\n",
    "ANSWER:  0\n",
    "Response saved to response.txt\n",
    "CORRECT ANSWER:  59\n",
    "MODEL_RESPONSE:  Let me help solve this step by step."
   ]
  },
  {
   "cell_type": "markdown",
   "metadata": {},
   "source": []
  },
  {
   "cell_type": "markdown",
   "metadata": {},
   "source": []
  },
  {
   "cell_type": "markdown",
   "metadata": {},
   "source": [
    "1. Henry took 9 pills per day for 14 days\n",
    "   * Total pills = 9 × 14 = 126 pills total\n",
    "\n",
    "2. Out of 9 daily pills:\n",
    "   * 4 pills cost $1.50 each\n",
    "   * 5 pills cost $1.50 + $5.50 = $7.00 each\n",
    "\n",
    "3. Calculate total cost for cheaper pills:\n",
    "   * Number of cheaper pills = 4 pills × 14 days = 56 pills\n",
    "   * Cost = 56 × $1.50 = $84.00\n",
    "\n",
    "4. Calculate total cost for expensive pills:\n",
    "   * Number of expensive pills = 5 pills × 14 days = 70 pills\n",
    "   * Cost = 70 × $7.00 = $490.00\n",
    "\n",
    "5. Total cost for all pills:\n",
    "   * Total = $84.00 + $490.00 = $574.00\n",
    "\n",
    "<ANSWER>574</ANSWER>\n",
    "ANSWER:  574\n",
    "Response saved to response.txt\n",
    "CORRECT ANSWER:  41"
   ]
  },
  {
   "cell_type": "markdown",
   "metadata": {},
   "source": [
    "MODEL_RESPONSE:  Let me help solve this step by step:\n",
    "\n",
    "1. First hour collection:\n",
    "   * Joanne collected 15 coins\n",
    "\n",
    "2. Next two hours:\n",
    "   * She collected 35 coins\n",
    "\n",
    "3. Fourth hour:\n",
    "   * She collected 50 coins\n",
    "   * She gave 15 coins to her coworker\n",
    "\n",
    "4. Let's add it all up:\n",
    "   * First hour: 15 coins\n",
    "   * Next two hours: 35 coins\n",
    "   * Fourth hour: 50 coins - 15 coins = 35 coins\n",
    "\n",
    "5. Total coins = 15 + 35 + 35 = 85 coins\n",
    "\n",
    "<ANSWER>85</ANSWER>\n",
    "ANSWER:  85\n",
    "Response saved to response.txt\n",
    "CORRECT ANSWER:  120\n",
    "MODEL_RESPONSE:  Let me help solve this step by step:"
   ]
  },
  {
   "cell_type": "markdown",
   "metadata": {},
   "source": [
    "## running"
   ]
  },
  {
   "cell_type": "code",
   "execution_count": 107,
   "metadata": {},
   "outputs": [
    {
     "name": "stdout",
     "output_type": "stream",
     "text": [
      "RUNNING ACCURACY TESTS:\n",
      "CORRECT ANSWER:  15\n",
      "MODEL ANSWER:  15\n",
      "Response appended to response.txt\n",
      "CORRECT ANSWER:  36\n",
      "MODEL ANSWER:  36\n",
      "Response appended to response.txt\n",
      "CORRECT ANSWER:  25\n",
      "MODEL ANSWER:  25\n",
      "Response appended to response.txt\n",
      "CORRECT ANSWER:  258\n",
      "MODEL ANSWER:  258\n",
      "Response appended to response.txt\n",
      "CORRECT ANSWER:  96\n",
      "MODEL ANSWER:  96\n",
      "Response appended to response.txt\n",
      "CORRECT ANSWER:  320\n",
      "MODEL ANSWER:  320\n",
      "Response appended to response.txt\n",
      "CORRECT ANSWER:  50\n",
      "MODEL ANSWER:  50\n",
      "Response appended to response.txt\n",
      "CORRECT ANSWER:  97\n",
      "MODEL ANSWER:  97\n",
      "Response appended to response.txt\n",
      "CORRECT ANSWER:  41\n",
      "MODEL ANSWER:  574\n",
      "Response appended to response.txt\n",
      "CORRECT ANSWER:  20\n",
      "MODEL ANSWER:  20\n",
      "Response appended to response.txt\n",
      "CORRECT ANSWER:  140\n",
      "MODEL ANSWER:  140\n",
      "Response appended to response.txt\n",
      "CORRECT ANSWER:  6\n",
      "MODEL ANSWER:  6\n",
      "Response appended to response.txt\n",
      "CORRECT ANSWER:  920\n",
      "MODEL ANSWER:  920\n",
      "Response appended to response.txt\n",
      "CORRECT ANSWER:  60\n",
      "MODEL ANSWER:  60\n",
      "Response appended to response.txt\n",
      "CORRECT ANSWER:  15\n",
      "MODEL ANSWER:  15\n",
      "Response appended to response.txt\n",
      "CORRECT ANSWER:  4000\n",
      "MODEL ANSWER:  4000\n",
      "Response appended to response.txt\n",
      "CORRECT ANSWER:  21\n",
      "MODEL ANSWER:  21\n",
      "Response appended to response.txt\n",
      "CORRECT ANSWER:  16\n",
      "MODEL ANSWER:  16\n",
      "Response appended to response.txt\n",
      "CORRECT ANSWER:  13\n",
      "MODEL ANSWER:  13\n",
      "Response appended to response.txt\n",
      "CORRECT ANSWER:  140\n",
      "MODEL ANSWER:  140\n",
      "Response appended to response.txt\n",
      "CORRECT ANSWER:  720\n",
      "MODEL ANSWER:  720\n",
      "Response appended to response.txt\n",
      "CORRECT ANSWER:  6\n",
      "MODEL ANSWER:  6\n",
      "Response appended to response.txt\n",
      "CORRECT ANSWER:  48\n",
      "MODEL ANSWER:  48\n",
      "Response appended to response.txt\n",
      "CORRECT ANSWER:  25\n",
      "MODEL ANSWER:  25\n",
      "Response appended to response.txt\n",
      "CORRECT ANSWER:  18\n",
      "MODEL ANSWER:  18\n",
      "Response appended to response.txt\n",
      "CORRECT ANSWER:  50\n",
      "MODEL ANSWER:  50\n",
      "Response appended to response.txt\n",
      "CORRECT ANSWER:  25\n",
      "MODEL ANSWER:  25\n",
      "Response appended to response.txt\n",
      "CORRECT ANSWER:  55\n",
      "MODEL ANSWER:  55\n",
      "Response appended to response.txt\n",
      "CORRECT ANSWER:  6\n",
      "MODEL ANSWER:  6\n",
      "Response appended to response.txt\n",
      "CORRECT ANSWER:  10\n",
      "MODEL ANSWER:  8\n",
      "Response appended to response.txt\n",
      "CORRECT ANSWER:  55\n",
      "MODEL ANSWER:  55\n",
      "Response appended to response.txt\n",
      "CORRECT ANSWER:  500\n",
      "MODEL ANSWER:  500\n",
      "Response appended to response.txt\n",
      "CORRECT ANSWER:  110\n",
      "MODEL ANSWER:  110\n",
      "Response appended to response.txt\n",
      "CORRECT ANSWER:  9\n",
      "MODEL ANSWER:  9\n",
      "Response appended to response.txt\n",
      "CORRECT ANSWER:  74\n",
      "MODEL ANSWER:  74\n",
      "Response appended to response.txt\n",
      "CORRECT ANSWER:  2350\n",
      "MODEL ANSWER:  2350\n",
      "Response appended to response.txt\n",
      "CORRECT ANSWER:  20\n",
      "MODEL ANSWER:  20\n",
      "Response appended to response.txt\n",
      "CORRECT ANSWER:  6\n",
      "MODEL ANSWER:  6\n",
      "Response appended to response.txt\n",
      "CORRECT ANSWER:  8\n",
      "MODEL ANSWER:  8\n",
      "Response appended to response.txt\n",
      "CORRECT ANSWER:  24\n",
      "MODEL ANSWER:  24\n",
      "Response appended to response.txt\n",
      "CORRECT ANSWER:  148\n",
      "MODEL ANSWER:  148\n",
      "Response appended to response.txt\n",
      "CORRECT ANSWER:  72\n",
      "MODEL ANSWER:  72\n",
      "Response appended to response.txt\n",
      "CORRECT ANSWER:  30\n",
      "MODEL ANSWER:  30\n",
      "Response appended to response.txt\n",
      "CORRECT ANSWER:  45\n",
      "MODEL ANSWER:  45\n",
      "Response appended to response.txt\n",
      "CORRECT ANSWER:  8\n",
      "MODEL ANSWER:  8\n",
      "Response appended to response.txt\n",
      "CORRECT ANSWER:  2\n",
      "MODEL ANSWER:  2\n",
      "Response appended to response.txt\n",
      "CORRECT ANSWER:  136\n",
      "MODEL ANSWER:  136\n",
      "Response appended to response.txt\n",
      "CORRECT ANSWER:  9\n",
      "MODEL ANSWER:  9\n",
      "Response appended to response.txt\n",
      "CORRECT ANSWER:  35\n",
      "MODEL ANSWER:  35\n",
      "Response appended to response.txt\n",
      "CORRECT ANSWER:  4\n",
      "MODEL ANSWER:  4\n",
      "Response appended to response.txt\n",
      "ACCURACY for regular:  0.96\n"
     ]
    }
   ],
   "source": [
    "train_subset_questions = dataset[\"train\"][100:150]['question']\n",
    "train_subset_answers = answers[100:150]\n",
    "\n",
    "\n",
    "print(\"RUNNING ACCURACY TESTS:\")\n",
    "\n",
    "correct = 0\n",
    "for i in range(len(train_subset_questions)):\n",
    "    answer = get_model_response(train_subset_questions[i],train_subset_answers[i])\n",
    "    answer = int(answer)\n",
    "    if (answer == train_subset_answers[i]):\n",
    "        correct+=1\n",
    "\n",
    "print(\"ACCURACY for regular: \", correct/len(train_subset_answers))"
   ]
  },
  {
   "cell_type": "code",
   "execution_count": null,
   "metadata": {},
   "outputs": [
    {
     "name": "stdout",
     "output_type": "stream",
     "text": [
      "RUNNING FAIL@K ACCURACY TESTS:\n",
      "Running the 0th sample\n",
      "0th try\n",
      "CORRECT ANSWER:  15\n",
      "MODEL ANSWER:  15\n",
      "1th try\n",
      "CORRECT ANSWER:  15\n",
      "MODEL ANSWER:  15\n",
      "2th try\n",
      "CORRECT ANSWER:  15\n",
      "MODEL ANSWER:  15\n",
      "3th try\n",
      "CORRECT ANSWER:  15\n",
      "MODEL ANSWER:  15\n",
      "Running the 1th sample\n",
      "0th try\n",
      "CORRECT ANSWER:  36\n",
      "MODEL ANSWER:  36\n",
      "1th try\n",
      "CORRECT ANSWER:  36\n",
      "MODEL ANSWER:  36\n",
      "2th try\n"
     ]
    },
    {
     "ename": "KeyboardInterrupt",
     "evalue": "",
     "output_type": "error",
     "traceback": [
      "\u001b[0;31m---------------------------------------------------------------------------\u001b[0m",
      "\u001b[0;31mKeyboardInterrupt\u001b[0m                         Traceback (most recent call last)",
      "Cell \u001b[0;32mIn[114], line 12\u001b[0m\n\u001b[1;32m     10\u001b[0m \u001b[38;5;28;01mfor\u001b[39;00m j \u001b[38;5;129;01min\u001b[39;00m \u001b[38;5;28mrange\u001b[39m(\u001b[38;5;241m4\u001b[39m):\n\u001b[1;32m     11\u001b[0m     \u001b[38;5;28mprint\u001b[39m(\u001b[38;5;124mf\u001b[39m\u001b[38;5;124m\"\u001b[39m\u001b[38;5;132;01m{\u001b[39;00mj\u001b[38;5;132;01m}\u001b[39;00m\u001b[38;5;124mth try\u001b[39m\u001b[38;5;124m\"\u001b[39m)\n\u001b[0;32m---> 12\u001b[0m     answer \u001b[38;5;241m=\u001b[39m get_model_response(train_subset_questions[i],train_subset_answers[i],\u001b[38;5;124m\"\u001b[39m\u001b[38;5;124mfail.txt\u001b[39m\u001b[38;5;124m\"\u001b[39m)\n\u001b[1;32m     13\u001b[0m     answer \u001b[38;5;241m=\u001b[39m \u001b[38;5;28mint\u001b[39m(answer)\n\u001b[1;32m     14\u001b[0m     \u001b[38;5;28;01mif\u001b[39;00m (answer \u001b[38;5;241m==\u001b[39m train_subset_answers[i]):\n",
      "Cell \u001b[0;32mIn[112], line 3\u001b[0m, in \u001b[0;36mget_model_response\u001b[0;34m(prompt, answer, filename)\u001b[0m\n\u001b[1;32m      1\u001b[0m \u001b[38;5;28;01mdef\u001b[39;00m \u001b[38;5;21mget_model_response\u001b[39m(prompt, answer, filename):\n\u001b[1;32m      2\u001b[0m     \u001b[38;5;28;01mtry\u001b[39;00m:\n\u001b[0;32m----> 3\u001b[0m         response \u001b[38;5;241m=\u001b[39m requests\u001b[38;5;241m.\u001b[39mpost(\n\u001b[1;32m      4\u001b[0m             url\u001b[38;5;241m=\u001b[39m\u001b[38;5;124m\"\u001b[39m\u001b[38;5;124mhttps://openrouter.ai/api/v1/chat/completions\u001b[39m\u001b[38;5;124m\"\u001b[39m,\n\u001b[1;32m      5\u001b[0m             headers\u001b[38;5;241m=\u001b[39m{\n\u001b[1;32m      6\u001b[0m                 \u001b[38;5;124m\"\u001b[39m\u001b[38;5;124mAuthorization\u001b[39m\u001b[38;5;124m\"\u001b[39m: \u001b[38;5;124mf\u001b[39m\u001b[38;5;124m\"\u001b[39m\u001b[38;5;124mBearer \u001b[39m\u001b[38;5;132;01m{\u001b[39;00mos\u001b[38;5;241m.\u001b[39mgetenv(\u001b[38;5;124m'\u001b[39m\u001b[38;5;124mOPENROUTER_API_KEY\u001b[39m\u001b[38;5;124m'\u001b[39m)\u001b[38;5;132;01m}\u001b[39;00m\u001b[38;5;124m\"\u001b[39m,\n\u001b[1;32m      7\u001b[0m             },\n\u001b[1;32m      8\u001b[0m             data\u001b[38;5;241m=\u001b[39mjson\u001b[38;5;241m.\u001b[39mdumps({\n\u001b[1;32m      9\u001b[0m                 \u001b[38;5;124m\"\u001b[39m\u001b[38;5;124mmodel\u001b[39m\u001b[38;5;124m\"\u001b[39m: \u001b[38;5;124m\"\u001b[39m\u001b[38;5;124manthropic/claude-3.5-sonnet\u001b[39m\u001b[38;5;124m\"\u001b[39m, \n\u001b[1;32m     10\u001b[0m                 \u001b[38;5;124m\"\u001b[39m\u001b[38;5;124mmessages\u001b[39m\u001b[38;5;124m\"\u001b[39m: [\n\u001b[1;32m     11\u001b[0m                     {\n\u001b[1;32m     12\u001b[0m                         \u001b[38;5;124m\"\u001b[39m\u001b[38;5;124mrole\u001b[39m\u001b[38;5;124m\"\u001b[39m: \u001b[38;5;124m\"\u001b[39m\u001b[38;5;124muser\u001b[39m\u001b[38;5;124m\"\u001b[39m,\n\u001b[1;32m     13\u001b[0m                         \u001b[38;5;124m\"\u001b[39m\u001b[38;5;124mcontent\u001b[39m\u001b[38;5;124m\"\u001b[39m: (\n\u001b[1;32m     14\u001b[0m \u001b[38;5;250m                            \u001b[39m\u001b[38;5;124;03m\"\"\"\u001b[39;00m\n\u001b[1;32m     15\u001b[0m \u001b[38;5;124;03m                            Solve the math problem provided below. \u001b[39;00m\n\u001b[1;32m     16\u001b[0m \u001b[38;5;124;03m                            At the very end of your message, provide the answer to the problem in <ANSWER> </ANSWER> tags:\u001b[39;00m\n\u001b[1;32m     17\u001b[0m \u001b[38;5;124;03m                            In the answer tags, only provide the answer to the problem, no other text.\u001b[39;00m\n\u001b[1;32m     18\u001b[0m \u001b[38;5;124;03m                            The answer should be an integer without any other symbols.\u001b[39;00m\n\u001b[1;32m     19\u001b[0m \u001b[38;5;124;03m                            \"\"\"\u001b[39;00m\n\u001b[1;32m     20\u001b[0m                             \u001b[38;5;241m+\u001b[39m prompt\n\u001b[1;32m     21\u001b[0m                         )\n\u001b[1;32m     22\u001b[0m                     }\n\u001b[1;32m     23\u001b[0m                 ]\n\u001b[1;32m     24\u001b[0m                 \n\u001b[1;32m     25\u001b[0m             })\n\u001b[1;32m     26\u001b[0m         )\n\u001b[1;32m     27\u001b[0m         \u001b[38;5;28;01mif\u001b[39;00m response\u001b[38;5;241m.\u001b[39mstatus_code \u001b[38;5;241m==\u001b[39m \u001b[38;5;241m200\u001b[39m:\n\u001b[1;32m     28\u001b[0m             data \u001b[38;5;241m=\u001b[39m response\u001b[38;5;241m.\u001b[39mjson()\n",
      "File \u001b[0;32m/opt/anaconda3/lib/python3.12/site-packages/requests/api.py:115\u001b[0m, in \u001b[0;36mpost\u001b[0;34m(url, data, json, **kwargs)\u001b[0m\n\u001b[1;32m    103\u001b[0m \u001b[38;5;28;01mdef\u001b[39;00m \u001b[38;5;21mpost\u001b[39m(url, data\u001b[38;5;241m=\u001b[39m\u001b[38;5;28;01mNone\u001b[39;00m, json\u001b[38;5;241m=\u001b[39m\u001b[38;5;28;01mNone\u001b[39;00m, \u001b[38;5;241m*\u001b[39m\u001b[38;5;241m*\u001b[39mkwargs):\n\u001b[1;32m    104\u001b[0m \u001b[38;5;250m    \u001b[39m\u001b[38;5;124mr\u001b[39m\u001b[38;5;124;03m\"\"\"Sends a POST request.\u001b[39;00m\n\u001b[1;32m    105\u001b[0m \n\u001b[1;32m    106\u001b[0m \u001b[38;5;124;03m    :param url: URL for the new :class:`Request` object.\u001b[39;00m\n\u001b[0;32m   (...)\u001b[0m\n\u001b[1;32m    112\u001b[0m \u001b[38;5;124;03m    :rtype: requests.Response\u001b[39;00m\n\u001b[1;32m    113\u001b[0m \u001b[38;5;124;03m    \"\"\"\u001b[39;00m\n\u001b[0;32m--> 115\u001b[0m     \u001b[38;5;28;01mreturn\u001b[39;00m request(\u001b[38;5;124m\"\u001b[39m\u001b[38;5;124mpost\u001b[39m\u001b[38;5;124m\"\u001b[39m, url, data\u001b[38;5;241m=\u001b[39mdata, json\u001b[38;5;241m=\u001b[39mjson, \u001b[38;5;241m*\u001b[39m\u001b[38;5;241m*\u001b[39mkwargs)\n",
      "File \u001b[0;32m/opt/anaconda3/lib/python3.12/site-packages/requests/api.py:59\u001b[0m, in \u001b[0;36mrequest\u001b[0;34m(method, url, **kwargs)\u001b[0m\n\u001b[1;32m     55\u001b[0m \u001b[38;5;66;03m# By using the 'with' statement we are sure the session is closed, thus we\u001b[39;00m\n\u001b[1;32m     56\u001b[0m \u001b[38;5;66;03m# avoid leaving sockets open which can trigger a ResourceWarning in some\u001b[39;00m\n\u001b[1;32m     57\u001b[0m \u001b[38;5;66;03m# cases, and look like a memory leak in others.\u001b[39;00m\n\u001b[1;32m     58\u001b[0m \u001b[38;5;28;01mwith\u001b[39;00m sessions\u001b[38;5;241m.\u001b[39mSession() \u001b[38;5;28;01mas\u001b[39;00m session:\n\u001b[0;32m---> 59\u001b[0m     \u001b[38;5;28;01mreturn\u001b[39;00m session\u001b[38;5;241m.\u001b[39mrequest(method\u001b[38;5;241m=\u001b[39mmethod, url\u001b[38;5;241m=\u001b[39murl, \u001b[38;5;241m*\u001b[39m\u001b[38;5;241m*\u001b[39mkwargs)\n",
      "File \u001b[0;32m/opt/anaconda3/lib/python3.12/site-packages/requests/sessions.py:589\u001b[0m, in \u001b[0;36mSession.request\u001b[0;34m(self, method, url, params, data, headers, cookies, files, auth, timeout, allow_redirects, proxies, hooks, stream, verify, cert, json)\u001b[0m\n\u001b[1;32m    584\u001b[0m send_kwargs \u001b[38;5;241m=\u001b[39m {\n\u001b[1;32m    585\u001b[0m     \u001b[38;5;124m\"\u001b[39m\u001b[38;5;124mtimeout\u001b[39m\u001b[38;5;124m\"\u001b[39m: timeout,\n\u001b[1;32m    586\u001b[0m     \u001b[38;5;124m\"\u001b[39m\u001b[38;5;124mallow_redirects\u001b[39m\u001b[38;5;124m\"\u001b[39m: allow_redirects,\n\u001b[1;32m    587\u001b[0m }\n\u001b[1;32m    588\u001b[0m send_kwargs\u001b[38;5;241m.\u001b[39mupdate(settings)\n\u001b[0;32m--> 589\u001b[0m resp \u001b[38;5;241m=\u001b[39m \u001b[38;5;28mself\u001b[39m\u001b[38;5;241m.\u001b[39msend(prep, \u001b[38;5;241m*\u001b[39m\u001b[38;5;241m*\u001b[39msend_kwargs)\n\u001b[1;32m    591\u001b[0m \u001b[38;5;28;01mreturn\u001b[39;00m resp\n",
      "File \u001b[0;32m/opt/anaconda3/lib/python3.12/site-packages/requests/sessions.py:746\u001b[0m, in \u001b[0;36mSession.send\u001b[0;34m(self, request, **kwargs)\u001b[0m\n\u001b[1;32m    743\u001b[0m         \u001b[38;5;28;01mpass\u001b[39;00m\n\u001b[1;32m    745\u001b[0m \u001b[38;5;28;01mif\u001b[39;00m \u001b[38;5;129;01mnot\u001b[39;00m stream:\n\u001b[0;32m--> 746\u001b[0m     r\u001b[38;5;241m.\u001b[39mcontent\n\u001b[1;32m    748\u001b[0m \u001b[38;5;28;01mreturn\u001b[39;00m r\n",
      "File \u001b[0;32m/opt/anaconda3/lib/python3.12/site-packages/requests/models.py:902\u001b[0m, in \u001b[0;36mResponse.content\u001b[0;34m(self)\u001b[0m\n\u001b[1;32m    900\u001b[0m         \u001b[38;5;28mself\u001b[39m\u001b[38;5;241m.\u001b[39m_content \u001b[38;5;241m=\u001b[39m \u001b[38;5;28;01mNone\u001b[39;00m\n\u001b[1;32m    901\u001b[0m     \u001b[38;5;28;01melse\u001b[39;00m:\n\u001b[0;32m--> 902\u001b[0m         \u001b[38;5;28mself\u001b[39m\u001b[38;5;241m.\u001b[39m_content \u001b[38;5;241m=\u001b[39m \u001b[38;5;124mb\u001b[39m\u001b[38;5;124m\"\u001b[39m\u001b[38;5;124m\"\u001b[39m\u001b[38;5;241m.\u001b[39mjoin(\u001b[38;5;28mself\u001b[39m\u001b[38;5;241m.\u001b[39miter_content(CONTENT_CHUNK_SIZE)) \u001b[38;5;129;01mor\u001b[39;00m \u001b[38;5;124mb\u001b[39m\u001b[38;5;124m\"\u001b[39m\u001b[38;5;124m\"\u001b[39m\n\u001b[1;32m    904\u001b[0m \u001b[38;5;28mself\u001b[39m\u001b[38;5;241m.\u001b[39m_content_consumed \u001b[38;5;241m=\u001b[39m \u001b[38;5;28;01mTrue\u001b[39;00m\n\u001b[1;32m    905\u001b[0m \u001b[38;5;66;03m# don't need to release the connection; that's been handled by urllib3\u001b[39;00m\n\u001b[1;32m    906\u001b[0m \u001b[38;5;66;03m# since we exhausted the data.\u001b[39;00m\n",
      "File \u001b[0;32m/opt/anaconda3/lib/python3.12/site-packages/requests/models.py:820\u001b[0m, in \u001b[0;36mResponse.iter_content.<locals>.generate\u001b[0;34m()\u001b[0m\n\u001b[1;32m    818\u001b[0m \u001b[38;5;28;01mif\u001b[39;00m \u001b[38;5;28mhasattr\u001b[39m(\u001b[38;5;28mself\u001b[39m\u001b[38;5;241m.\u001b[39mraw, \u001b[38;5;124m\"\u001b[39m\u001b[38;5;124mstream\u001b[39m\u001b[38;5;124m\"\u001b[39m):\n\u001b[1;32m    819\u001b[0m     \u001b[38;5;28;01mtry\u001b[39;00m:\n\u001b[0;32m--> 820\u001b[0m         \u001b[38;5;28;01myield from\u001b[39;00m \u001b[38;5;28mself\u001b[39m\u001b[38;5;241m.\u001b[39mraw\u001b[38;5;241m.\u001b[39mstream(chunk_size, decode_content\u001b[38;5;241m=\u001b[39m\u001b[38;5;28;01mTrue\u001b[39;00m)\n\u001b[1;32m    821\u001b[0m     \u001b[38;5;28;01mexcept\u001b[39;00m ProtocolError \u001b[38;5;28;01mas\u001b[39;00m e:\n\u001b[1;32m    822\u001b[0m         \u001b[38;5;28;01mraise\u001b[39;00m ChunkedEncodingError(e)\n",
      "File \u001b[0;32m/opt/anaconda3/lib/python3.12/site-packages/urllib3/response.py:624\u001b[0m, in \u001b[0;36mHTTPResponse.stream\u001b[0;34m(self, amt, decode_content)\u001b[0m\n\u001b[1;32m    608\u001b[0m \u001b[38;5;250m\u001b[39m\u001b[38;5;124;03m\"\"\"\u001b[39;00m\n\u001b[1;32m    609\u001b[0m \u001b[38;5;124;03mA generator wrapper for the read() method. A call will block until\u001b[39;00m\n\u001b[1;32m    610\u001b[0m \u001b[38;5;124;03m``amt`` bytes have been read from the connection or until the\u001b[39;00m\n\u001b[0;32m   (...)\u001b[0m\n\u001b[1;32m    621\u001b[0m \u001b[38;5;124;03m    'content-encoding' header.\u001b[39;00m\n\u001b[1;32m    622\u001b[0m \u001b[38;5;124;03m\"\"\"\u001b[39;00m\n\u001b[1;32m    623\u001b[0m \u001b[38;5;28;01mif\u001b[39;00m \u001b[38;5;28mself\u001b[39m\u001b[38;5;241m.\u001b[39mchunked \u001b[38;5;129;01mand\u001b[39;00m \u001b[38;5;28mself\u001b[39m\u001b[38;5;241m.\u001b[39msupports_chunked_reads():\n\u001b[0;32m--> 624\u001b[0m     \u001b[38;5;28;01mfor\u001b[39;00m line \u001b[38;5;129;01min\u001b[39;00m \u001b[38;5;28mself\u001b[39m\u001b[38;5;241m.\u001b[39mread_chunked(amt, decode_content\u001b[38;5;241m=\u001b[39mdecode_content):\n\u001b[1;32m    625\u001b[0m         \u001b[38;5;28;01myield\u001b[39;00m line\n\u001b[1;32m    626\u001b[0m \u001b[38;5;28;01melse\u001b[39;00m:\n",
      "File \u001b[0;32m/opt/anaconda3/lib/python3.12/site-packages/urllib3/response.py:828\u001b[0m, in \u001b[0;36mHTTPResponse.read_chunked\u001b[0;34m(self, amt, decode_content)\u001b[0m\n\u001b[1;32m    825\u001b[0m     \u001b[38;5;28;01mreturn\u001b[39;00m\n\u001b[1;32m    827\u001b[0m \u001b[38;5;28;01mwhile\u001b[39;00m \u001b[38;5;28;01mTrue\u001b[39;00m:\n\u001b[0;32m--> 828\u001b[0m     \u001b[38;5;28mself\u001b[39m\u001b[38;5;241m.\u001b[39m_update_chunk_length()\n\u001b[1;32m    829\u001b[0m     \u001b[38;5;28;01mif\u001b[39;00m \u001b[38;5;28mself\u001b[39m\u001b[38;5;241m.\u001b[39mchunk_left \u001b[38;5;241m==\u001b[39m \u001b[38;5;241m0\u001b[39m:\n\u001b[1;32m    830\u001b[0m         \u001b[38;5;28;01mbreak\u001b[39;00m\n",
      "File \u001b[0;32m/opt/anaconda3/lib/python3.12/site-packages/urllib3/response.py:758\u001b[0m, in \u001b[0;36mHTTPResponse._update_chunk_length\u001b[0;34m(self)\u001b[0m\n\u001b[1;32m    756\u001b[0m \u001b[38;5;28;01mif\u001b[39;00m \u001b[38;5;28mself\u001b[39m\u001b[38;5;241m.\u001b[39mchunk_left \u001b[38;5;129;01mis\u001b[39;00m \u001b[38;5;129;01mnot\u001b[39;00m \u001b[38;5;28;01mNone\u001b[39;00m:\n\u001b[1;32m    757\u001b[0m     \u001b[38;5;28;01mreturn\u001b[39;00m\n\u001b[0;32m--> 758\u001b[0m line \u001b[38;5;241m=\u001b[39m \u001b[38;5;28mself\u001b[39m\u001b[38;5;241m.\u001b[39m_fp\u001b[38;5;241m.\u001b[39mfp\u001b[38;5;241m.\u001b[39mreadline()\n\u001b[1;32m    759\u001b[0m line \u001b[38;5;241m=\u001b[39m line\u001b[38;5;241m.\u001b[39msplit(\u001b[38;5;124mb\u001b[39m\u001b[38;5;124m\"\u001b[39m\u001b[38;5;124m;\u001b[39m\u001b[38;5;124m\"\u001b[39m, \u001b[38;5;241m1\u001b[39m)[\u001b[38;5;241m0\u001b[39m]\n\u001b[1;32m    760\u001b[0m \u001b[38;5;28;01mtry\u001b[39;00m:\n",
      "File \u001b[0;32m/opt/anaconda3/lib/python3.12/socket.py:708\u001b[0m, in \u001b[0;36mSocketIO.readinto\u001b[0;34m(self, b)\u001b[0m\n\u001b[1;32m    706\u001b[0m \u001b[38;5;28;01mwhile\u001b[39;00m \u001b[38;5;28;01mTrue\u001b[39;00m:\n\u001b[1;32m    707\u001b[0m     \u001b[38;5;28;01mtry\u001b[39;00m:\n\u001b[0;32m--> 708\u001b[0m         \u001b[38;5;28;01mreturn\u001b[39;00m \u001b[38;5;28mself\u001b[39m\u001b[38;5;241m.\u001b[39m_sock\u001b[38;5;241m.\u001b[39mrecv_into(b)\n\u001b[1;32m    709\u001b[0m     \u001b[38;5;28;01mexcept\u001b[39;00m timeout:\n\u001b[1;32m    710\u001b[0m         \u001b[38;5;28mself\u001b[39m\u001b[38;5;241m.\u001b[39m_timeout_occurred \u001b[38;5;241m=\u001b[39m \u001b[38;5;28;01mTrue\u001b[39;00m\n",
      "File \u001b[0;32m/opt/anaconda3/lib/python3.12/ssl.py:1252\u001b[0m, in \u001b[0;36mSSLSocket.recv_into\u001b[0;34m(self, buffer, nbytes, flags)\u001b[0m\n\u001b[1;32m   1248\u001b[0m     \u001b[38;5;28;01mif\u001b[39;00m flags \u001b[38;5;241m!=\u001b[39m \u001b[38;5;241m0\u001b[39m:\n\u001b[1;32m   1249\u001b[0m         \u001b[38;5;28;01mraise\u001b[39;00m \u001b[38;5;167;01mValueError\u001b[39;00m(\n\u001b[1;32m   1250\u001b[0m           \u001b[38;5;124m\"\u001b[39m\u001b[38;5;124mnon-zero flags not allowed in calls to recv_into() on \u001b[39m\u001b[38;5;132;01m%s\u001b[39;00m\u001b[38;5;124m\"\u001b[39m \u001b[38;5;241m%\u001b[39m\n\u001b[1;32m   1251\u001b[0m           \u001b[38;5;28mself\u001b[39m\u001b[38;5;241m.\u001b[39m\u001b[38;5;18m__class__\u001b[39m)\n\u001b[0;32m-> 1252\u001b[0m     \u001b[38;5;28;01mreturn\u001b[39;00m \u001b[38;5;28mself\u001b[39m\u001b[38;5;241m.\u001b[39mread(nbytes, buffer)\n\u001b[1;32m   1253\u001b[0m \u001b[38;5;28;01melse\u001b[39;00m:\n\u001b[1;32m   1254\u001b[0m     \u001b[38;5;28;01mreturn\u001b[39;00m \u001b[38;5;28msuper\u001b[39m()\u001b[38;5;241m.\u001b[39mrecv_into(buffer, nbytes, flags)\n",
      "File \u001b[0;32m/opt/anaconda3/lib/python3.12/ssl.py:1104\u001b[0m, in \u001b[0;36mSSLSocket.read\u001b[0;34m(self, len, buffer)\u001b[0m\n\u001b[1;32m   1102\u001b[0m \u001b[38;5;28;01mtry\u001b[39;00m:\n\u001b[1;32m   1103\u001b[0m     \u001b[38;5;28;01mif\u001b[39;00m buffer \u001b[38;5;129;01mis\u001b[39;00m \u001b[38;5;129;01mnot\u001b[39;00m \u001b[38;5;28;01mNone\u001b[39;00m:\n\u001b[0;32m-> 1104\u001b[0m         \u001b[38;5;28;01mreturn\u001b[39;00m \u001b[38;5;28mself\u001b[39m\u001b[38;5;241m.\u001b[39m_sslobj\u001b[38;5;241m.\u001b[39mread(\u001b[38;5;28mlen\u001b[39m, buffer)\n\u001b[1;32m   1105\u001b[0m     \u001b[38;5;28;01melse\u001b[39;00m:\n\u001b[1;32m   1106\u001b[0m         \u001b[38;5;28;01mreturn\u001b[39;00m \u001b[38;5;28mself\u001b[39m\u001b[38;5;241m.\u001b[39m_sslobj\u001b[38;5;241m.\u001b[39mread(\u001b[38;5;28mlen\u001b[39m)\n",
      "\u001b[0;31mKeyboardInterrupt\u001b[0m: "
     ]
    }
   ],
   "source": [
    "train_subset_questions = dataset[\"train\"][100:105]['question']\n",
    "train_subset_answers = answers[100:105]\n",
    "\n",
    "print(\"RUNNING FAIL@K ACCURACY TESTS:\")\n",
    "\n",
    "correct = 0\n",
    "for i in range(len(train_subset_questions)):\n",
    "    passing = True\n",
    "    print(f\"Running the {i}th sample\")\n",
    "    for j in range(4):\n",
    "        print(f\"{j}th try\")\n",
    "        answer = get_model_response(train_subset_questions[i],train_subset_answers[i],\"fail.txt\")\n",
    "        answer = int(answer)\n",
    "        if (answer == train_subset_answers[i]):\n",
    "            correct+=1\n",
    "        else:\n",
    "            passing = False\n",
    "            print(f\"Failed at the {j}th example\")\n",
    "            break\n",
    "        if passing:\n",
    "            correct+=1\n",
    "\n",
    "print(\"ACCURACY FOR FAIL@K: \", correct/len(train_subset_answers))"
   ]
  },
  {
   "cell_type": "code",
   "execution_count": 113,
   "metadata": {},
   "outputs": [
    {
     "data": {
      "text/plain": [
       "5"
      ]
     },
     "execution_count": 113,
     "metadata": {},
     "output_type": "execute_result"
    }
   ],
   "source": [
    "len(train_subset_answers)"
   ]
  },
  {
   "cell_type": "code",
   "execution_count": null,
   "metadata": {},
   "outputs": [],
   "source": []
  }
 ],
 "metadata": {
  "kernelspec": {
   "display_name": "base",
   "language": "python",
   "name": "python3"
  },
  "language_info": {
   "codemirror_mode": {
    "name": "ipython",
    "version": 3
   },
   "file_extension": ".py",
   "mimetype": "text/x-python",
   "name": "python",
   "nbconvert_exporter": "python",
   "pygments_lexer": "ipython3",
   "version": "3.12.4"
  }
 },
 "nbformat": 4,
 "nbformat_minor": 2
}
